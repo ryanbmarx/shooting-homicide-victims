{
 "cells": [
  {
   "cell_type": "markdown",
   "metadata": {},
   "source": [
    "\n",
    "# <center> Documenting Python Dynamic Script </center>\n",
    "\n",
    "The purpose of **shootings_script_Dynamic.py** is to provide a dynamic way of gathering, cleaning, and analyzing shootings data available on newsroomDB. Next, I'll describe how the script works.\n",
    "\n",
    "The python script crawls NewsroomDB and gets the most up-to-date version of the shootings data that is available on the website. Next, it cleans the Date column so that the formating becomes more python friendly. Next, it calculates the cumulative sum of the number of shootings for each day in each month of ever year. The calcuation will be output in a csv file format and it's called **number_of_shootings_up_to_DATE** (e.g., number_of_shootings_up_to_26/07/2017).\n",
    " \n",
    "\n",
    "### How to run the script\n",
    "\n",
    "Ryan Marx will be implementing a node js code that uses command line to call and access the python script.\n",
    "\n",
    "I have written the script in a way so that anyone who is running it will have the freedom to choose the path where the CSV file mentioned above needs to be saved to.\n",
    "\n",
    "The following is an example of the python command:\n",
    "\n",
    "### - Example 1 (Analyzes data from an input file)\n",
    "\n",
    "```\n",
    "python shootings_script_Dynamic.py PATH_TO_YOUR_DIRECTORY\n",
    "\n",
    "\n",
    "python shootings_script_Dynamic.py shootings/data (this is just an example of how your path should look like)\n",
    "\n",
    "```\n",
    "### - Example 2 (Pulls and analyzes data from the web)\n",
    "\n",
    "```\n",
    "python shootings_script.py -i INPUT_FILE.csv OUTPUT_FILE.CSV\n",
    "\n",
    "python shootings_script.py -i newsroomdb.com/data.csv ./data/raw-data.csv\n",
    "```\n",
    "\n",
    "\n",
    "\n",
    "## Aggregating Chicago Police Department UCR codes to shootings data\n",
    "\n",
    "As an initiative to classify shooting incidents based on fatality (whether a shooting is fatal or not), we referred to Chicago Data Portal [link](https://data.cityofchicago.org/Public-Safety/Chicago-Police-Department-Illinois-Uniform-Crime-R/c7ck-438e/data) to add a \"is_fatal\" column to the shootings data file that determines whether a shooting is fatal or not. We will be aggregating data based on Illinois Uniform Crime Reporting Code for Homicide which are 110: 1st degree murder, 130: 2nd degree murder, 141:involuntary manslaughter, 142: reckless homicide\n",
    "\n",
    "NOTE: reporters have entered UCR code 110 as 110 and 0110. This has been resolved on the analysis end."
   ]
  }
 ],
 "metadata": {
  "kernelspec": {
   "display_name": "Python [conda root]",
   "language": "python",
   "name": "conda-root-py"
  },
  "language_info": {
   "codemirror_mode": {
    "name": "ipython",
    "version": 3
   },
   "file_extension": ".py",
   "mimetype": "text/x-python",
   "name": "python",
   "nbconvert_exporter": "python",
   "pygments_lexer": "ipython3",
   "version": "3.5.2"
  }
 },
 "nbformat": 4,
 "nbformat_minor": 1
}
