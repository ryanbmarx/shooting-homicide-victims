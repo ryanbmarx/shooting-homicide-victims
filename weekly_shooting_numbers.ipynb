{
 "cells": [
  {
   "cell_type": "markdown",
   "metadata": {},
   "source": [
    "# Weekly shooting numbers\n",
    "\n",
    "We need to run the script below to get the numbers to update [this page](http://www.chicagotribune.com/news/data/ct-shooting-victims-map-charts-htmlstory.html). When this script run from the same directory as wherever you download the shootings csv, the numbers you need to update the shootings page should be printed in your command line.\n",
    "\n",
    "You should follow along with [this ticket](https://tribune.unfuddle.com/a#/projects/46/tickets/by_number/1262) to fully understand what we're doing here."
   ]
  },
  {
   "cell_type": "markdown",
   "metadata": {},
   "source": [
    "### Step 1: download shootings csv from newsroomdb. Make sure it is saved on your Desktop (or just in the same directory as wherever this script will live)."
   ]
  },
  {
   "cell_type": "markdown",
   "metadata": {
    "collapsed": false
   },
   "source": [
    "### Step 2: Let's make sure we can take a look at the data."
   ]
  },
  {
   "cell_type": "code",
   "execution_count": 169,
   "metadata": {
    "collapsed": false
   },
   "outputs": [
    {
     "data": {
      "text/html": [
       "<div>\n",
       "<table border=\"1\" class=\"dataframe\">\n",
       "  <thead>\n",
       "    <tr style=\"text-align: right;\">\n",
       "      <th></th>\n",
       "      <th>RD Number</th>\n",
       "      <th>Date</th>\n",
       "      <th>Day</th>\n",
       "      <th>Time</th>\n",
       "      <th>UCR</th>\n",
       "      <th>Last Name</th>\n",
       "      <th>First Name</th>\n",
       "      <th>Sex</th>\n",
       "      <th>Age</th>\n",
       "      <th>DOB</th>\n",
       "      <th>...</th>\n",
       "      <th>Geocode Override</th>\n",
       "      <th>Shooting Specificity</th>\n",
       "      <th>District</th>\n",
       "      <th>Hospital 1</th>\n",
       "      <th>Hospital 2</th>\n",
       "      <th>Link</th>\n",
       "      <th>Link 2</th>\n",
       "      <th>Link 3</th>\n",
       "      <th>Notes</th>\n",
       "      <th>Computed time</th>\n",
       "    </tr>\n",
       "  </thead>\n",
       "  <tbody>\n",
       "    <tr>\n",
       "      <th>0</th>\n",
       "      <td>NaN</td>\n",
       "      <td>2011-09-13</td>\n",
       "      <td>Tuesday</td>\n",
       "      <td>15:40</td>\n",
       "      <td>0110</td>\n",
       "      <td>Varner</td>\n",
       "      <td>Devon</td>\n",
       "      <td>M</td>\n",
       "      <td>18</td>\n",
       "      <td>NaN</td>\n",
       "      <td>...</td>\n",
       "      <td>(41.783858, -87.615722)</td>\n",
       "      <td>Block</td>\n",
       "      <td>3</td>\n",
       "      <td>NaN</td>\n",
       "      <td>NaN</td>\n",
       "      <td>NaN</td>\n",
       "      <td>NaN</td>\n",
       "      <td>NaN</td>\n",
       "      <td>NaN</td>\n",
       "      <td>940</td>\n",
       "    </tr>\n",
       "    <tr>\n",
       "      <th>1</th>\n",
       "      <td>NaN</td>\n",
       "      <td>2011-09-21</td>\n",
       "      <td>Wednesday</td>\n",
       "      <td>21:15</td>\n",
       "      <td>041A</td>\n",
       "      <td>Doe</td>\n",
       "      <td>Jane</td>\n",
       "      <td>F</td>\n",
       "      <td>25</td>\n",
       "      <td>NaN</td>\n",
       "      <td>...</td>\n",
       "      <td>(41.7784, -87.615612)</td>\n",
       "      <td>Block</td>\n",
       "      <td>3</td>\n",
       "      <td>NaN</td>\n",
       "      <td>NaN</td>\n",
       "      <td>NaN</td>\n",
       "      <td>NaN</td>\n",
       "      <td>NaN</td>\n",
       "      <td>NaN</td>\n",
       "      <td>1275</td>\n",
       "    </tr>\n",
       "    <tr>\n",
       "      <th>2</th>\n",
       "      <td>NaN</td>\n",
       "      <td>2011-09-21</td>\n",
       "      <td>Wednesday</td>\n",
       "      <td>21:15</td>\n",
       "      <td>041A</td>\n",
       "      <td>Doe</td>\n",
       "      <td>John</td>\n",
       "      <td>M</td>\n",
       "      <td>27</td>\n",
       "      <td>NaN</td>\n",
       "      <td>...</td>\n",
       "      <td>(41.7784, -87.615612)</td>\n",
       "      <td>Block</td>\n",
       "      <td>3</td>\n",
       "      <td>NaN</td>\n",
       "      <td>NaN</td>\n",
       "      <td>NaN</td>\n",
       "      <td>NaN</td>\n",
       "      <td>NaN</td>\n",
       "      <td>NaN</td>\n",
       "      <td>1275</td>\n",
       "    </tr>\n",
       "  </tbody>\n",
       "</table>\n",
       "<p>3 rows × 23 columns</p>\n",
       "</div>"
      ],
      "text/plain": [
       "  RD Number        Date        Day   Time   UCR Last Name First Name Sex Age  \\\n",
       "0       NaN  2011-09-13    Tuesday  15:40  0110    Varner      Devon   M  18   \n",
       "1       NaN  2011-09-21  Wednesday  21:15  041A       Doe       Jane   F  25   \n",
       "2       NaN  2011-09-21  Wednesday  21:15  041A       Doe       John   M  27   \n",
       "\n",
       "   DOB      ...              Geocode Override Shooting Specificity District  \\\n",
       "0  NaN      ...       (41.783858, -87.615722)                Block        3   \n",
       "1  NaN      ...         (41.7784, -87.615612)                Block        3   \n",
       "2  NaN      ...         (41.7784, -87.615612)                Block        3   \n",
       "\n",
       "  Hospital 1 Hospital 2 Link Link 2 Link 3 Notes Computed time  \n",
       "0        NaN        NaN  NaN    NaN    NaN   NaN           940  \n",
       "1        NaN        NaN  NaN    NaN    NaN   NaN          1275  \n",
       "2        NaN        NaN  NaN    NaN    NaN   NaN          1275  \n",
       "\n",
       "[3 rows x 23 columns]"
      ]
     },
     "execution_count": 169,
     "metadata": {},
     "output_type": "execute_result"
    }
   ],
   "source": [
    "# Below, you can import into this file the python libraries needed to do this analysis.\n",
    "import pandas as pd\n",
    "import numpy as np\n",
    "\n",
    "# This assigns the variable 'shootings' to the appropriate csv, which you should have downloaded already.\n",
    "# You can edit the following line to make sure it points to wherever the shootings csv lives on your machine.\n",
    "shootings = pd.read_csv('../Desktop/shootings.csv')\n",
    "# This allows you to look at the first 3 rows of the data.\n",
    "shootings[:3]"
   ]
  },
  {
   "cell_type": "code",
   "execution_count": 170,
   "metadata": {
    "collapsed": false
   },
   "outputs": [
    {
     "data": {
      "text/plain": [
       "0    2011-09-13\n",
       "1    2011-09-21\n",
       "2    2011-09-21\n",
       "3    2011-09-23\n",
       "4    2011-09-24\n",
       "5    2011-09-24\n",
       "6    2011-10-04\n",
       "7    2011-10-04\n",
       "8    2011-10-04\n",
       "9    2011-09-25\n",
       "Name: Date, dtype: object"
      ]
     },
     "execution_count": 170,
     "metadata": {},
     "output_type": "execute_result"
    }
   ],
   "source": [
    "# Let's look just at the first 10 rows of the 'Date' column.\n",
    "shootings['Date'][:10]"
   ]
  },
  {
   "cell_type": "markdown",
   "metadata": {},
   "source": [
    "### Step 3: Let's see how many rows we have in the 'Date' column."
   ]
  },
  {
   "cell_type": "code",
   "execution_count": 171,
   "metadata": {
    "collapsed": false
   },
   "outputs": [
    {
     "data": {
      "text/plain": [
       "16495"
      ]
     },
     "execution_count": 171,
     "metadata": {},
     "output_type": "execute_result"
    }
   ],
   "source": [
    "# The 'count' method will tell us how many rows are in this entire dataset.\n",
    "# Our analyses for the purposes of the shootings page will focus on dates, so let's look at how many Date rows there are.\n",
    "shootings['Date'].count()"
   ]
  },
  {
   "cell_type": "markdown",
   "metadata": {},
   "source": [
    "### Step 4: Let's check out total shootings in 2016."
   ]
  },
  {
   "cell_type": "code",
   "execution_count": 172,
   "metadata": {
    "collapsed": false
   },
   "outputs": [
    {
     "name": "stdout",
     "output_type": "stream",
     "text": [
      "There were 4368 shootings in 2016.\n"
     ]
    }
   ],
   "source": [
    "# Let's focus in on shootings from 2016. The 'startswith' method allows us to zero in on rows that start with \n",
    "# the year we want, and assign them to the variable 'shootings_2016'.\n",
    "shootings_2016 = shootings[shootings['Date'].str.startswith('2016', na=False)]\n",
    "# Now, let's count how many rows there are of shootings with 2016 dates.\n",
    "print \"There were\", shootings_2016['Date'].count(), \"shootings in 2016.\""
   ]
  },
  {
   "cell_type": "markdown",
   "metadata": {},
   "source": [
    "### Step 5: Let's check out total shootings so far in 2017."
   ]
  },
  {
   "cell_type": "code",
   "execution_count": 173,
   "metadata": {
    "collapsed": false
   },
   "outputs": [
    {
     "name": "stdout",
     "output_type": "stream",
     "text": [
      "There have been 1366 shootings in 2017 so far.\n"
     ]
    }
   ],
   "source": [
    "# Now let's do the same thing for shootings in 2017.\n",
    "shootings_2017 = shootings[shootings['Date'].str.startswith('2017', na=False)]\n",
    "print \"There have been\", shootings_2017['Date'].count(), \"shootings in 2017 so far.\""
   ]
  },
  {
   "cell_type": "markdown",
   "metadata": {},
   "source": [
    "### For the shootings page, we want to focus in on how many shootings _within a certain time frame_ (until present day), which we now have for 2017. \n",
    "\n",
    "### Step 6: Let's try to find the shootings in each year before 2017 only from 1/1 to present day."
   ]
  },
  {
   "cell_type": "code",
   "execution_count": 174,
   "metadata": {
    "collapsed": false
   },
   "outputs": [
    {
     "name": "stdout",
     "output_type": "stream",
     "text": [
      "There were 1504 shootings between January 1 and present day in 2016.\n",
      "There were 965 shootings between January 1 and present day in 2015.\n",
      "There were 838 shootings between January 1 and present day in 2014.\n",
      "There were 745 shootings between January 1 and present day in 2013.\n",
      "There were 896 shootings between January 1 and present day in 2012.\n"
     ]
    },
    {
     "name": "stderr",
     "output_type": "stream",
     "text": [
      "/usr/local/lib/python2.7/site-packages/ipykernel/__main__.py:2: UserWarning: Boolean Series key will be reindexed to match DataFrame index.\n",
      "  from ipykernel import kernelapp as app\n"
     ]
    }
   ],
   "source": [
    "# Everytime you update this data, you will need to change the ending date from '2016-05-30' to the current date.\n",
    "shootings_in_range_2016 = shootings_2016[(shootings['Date'] > '2016-01-01') & (shootings['Date'] <= '2016-05-30')]\n",
    "shootings_in_range_2015 = shootings[(shootings['Date'] > '2015-01-01') & (shootings['Date'] <= '2015-05-30')]\n",
    "shootings_in_range_2014 = shootings[(shootings['Date'] > '2014-01-01') & (shootings['Date'] <= '2014-05-30')]\n",
    "shootings_in_range_2013 = shootings[(shootings['Date'] > '2013-01-01') & (shootings['Date'] <= '2013-05-30')]\n",
    "shootings_in_range_2012 = shootings[(shootings['Date'] > '2012-01-01') & (shootings['Date'] <= '2012-05-30')]\n",
    "\n",
    "print \"There were\", shootings_in_range_2016['Date'].count(), \"shootings between January 1 and present day in 2016.\"\n",
    "print \"There were\", shootings_in_range_2015['Date'].count(), \"shootings between January 1 and present day in 2015.\"\n",
    "print \"There were\", shootings_in_range_2014['Date'].count(), \"shootings between January 1 and present day in 2014.\"\n",
    "print \"There were\", shootings_in_range_2013['Date'].count(), \"shootings between January 1 and present day in 2013.\"\n",
    "print \"There were\", shootings_in_range_2012['Date'].count(), \"shootings between January 1 and present day in 2012.\""
   ]
  },
  {
   "cell_type": "markdown",
   "metadata": {
    "collapsed": true
   },
   "source": [
    "### Step 7: The next thing we want to do is find out how many shootings there were _per month_ in 2017. "
   ]
  },
  {
   "cell_type": "code",
   "execution_count": 175,
   "metadata": {
    "collapsed": false
   },
   "outputs": [],
   "source": [
    "# \"Date\" need some formating. Some dates are 'None' or 'NaN' -- the try/except accounts for those.\n",
    "\n",
    "try:\n",
    "    shootings['Date'] = pd.to_datetime(shootings['Date'], errors='coerce')\n",
    "except:\n",
    "    pass"
   ]
  },
  {
   "cell_type": "code",
   "execution_count": 176,
   "metadata": {
    "collapsed": false,
    "scrolled": true
   },
   "outputs": [
    {
     "name": "stdout",
     "output_type": "stream",
     "text": [
      "Here are 2017 shootings by month: January     312\n",
      "February    213\n",
      "March       210\n",
      "April       319\n",
      "May         312\n",
      "Name: Date, dtype: int64\n"
     ]
    }
   ],
   "source": [
    "# The next thing we need for the shootings page is an updated shootings breakdown by month for 2017.\n",
    "# One way to check if this is right, is to go to the current shootings page (linked at the top of this notebook),\n",
    "# and see if the numbers for January through May match, since those were done manually.\n",
    "shootings_by_month_2017 = shootings_2017.groupby([shootings['Date'].dt.year, shootings['Date'].dt.month])['Date'].count()\n",
    "# Below is how we change from numerals to months. As we progress through the months of 2017, you should add more months.\n",
    "shootings_by_month_2017.index = ['January','February','March','April','May']\n",
    "print \"Here are 2017 shootings by month:\", shootings_by_month_2017"
   ]
  },
  {
   "cell_type": "code",
   "execution_count": null,
   "metadata": {
    "collapsed": true
   },
   "outputs": [],
   "source": []
  }
 ],
 "metadata": {
  "kernelspec": {
   "display_name": "Python 2",
   "language": "python",
   "name": "python2"
  },
  "language_info": {
   "codemirror_mode": {
    "name": "ipython",
    "version": 2
   },
   "file_extension": ".py",
   "mimetype": "text/x-python",
   "name": "python",
   "nbconvert_exporter": "python",
   "pygments_lexer": "ipython2",
   "version": "2.7.11"
  }
 },
 "nbformat": 4,
 "nbformat_minor": 0
}
